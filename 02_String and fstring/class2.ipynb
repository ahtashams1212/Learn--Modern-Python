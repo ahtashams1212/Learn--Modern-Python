{
 "cells": [
  {
   "cell_type": "markdown",
   "metadata": {},
   "source": [
    "## String anf fstring"
   ]
  },
  {
   "cell_type": "code",
   "execution_count": 1,
   "metadata": {},
   "outputs": [
    {
     "name": "stdout",
     "output_type": "stream",
     "text": [
      "name\n"
     ]
    }
   ],
   "source": [
    "print(\"name\")"
   ]
  },
  {
   "cell_type": "markdown",
   "metadata": {},
   "source": [
    "## with variable print name first we can "
   ]
  },
  {
   "cell_type": "code",
   "execution_count": 3,
   "metadata": {},
   "outputs": [
    {
     "name": "stdout",
     "output_type": "stream",
     "text": [
      "Muhammad Shafique\n"
     ]
    }
   ],
   "source": [
    "name = \"Muhammad Shafique\" \n",
    "print(name)"
   ]
  },
  {
   "cell_type": "markdown",
   "metadata": {},
   "source": [
    "## in which string boundaries we can use in python\n",
    "## 'single quote',\"Double quote\"\n",
    "## '''Triple Single quote''' , \"\"\"Triple Double quote\"\"\".\n"
   ]
  },
  {
   "cell_type": "code",
   "execution_count": 11,
   "metadata": {},
   "outputs": [
    {
     "name": "stdout",
     "output_type": "stream",
     "text": [
      "<class 'str'>\n",
      "Samina Shafique\n"
     ]
    }
   ],
   "source": [
    "#   'Single quote'\n",
    "name1 : str = \"Samina Shafique\"\n",
    "print(type(name1))\n",
    "print(name1)"
   ]
  },
  {
   "cell_type": "markdown",
   "metadata": {},
   "source": [
    "## Special Character Symbol/quote"
   ]
  },
  {
   "cell_type": "code",
   "execution_count": 10,
   "metadata": {},
   "outputs": [
    {
     "name": "stdout",
     "output_type": "stream",
     "text": [
      "<class 'str'>\n",
      "Ahba Shafique\n"
     ]
    }
   ],
   "source": [
    "#   \"Double quote\"\n",
    "name2 : str = \"Ahba Shafique\"\n",
    "print(type(name2))\n",
    "print(name2)"
   ]
  },
  {
   "cell_type": "code",
   "execution_count": 9,
   "metadata": {},
   "outputs": [
    {
     "name": "stdout",
     "output_type": "stream",
     "text": [
      "<class 'str'>\n",
      "Aliza Shafique\n"
     ]
    }
   ],
   "source": [
    "#   '''Triple Single quote'''\n",
    "name3 : str = \"Aliza Shafique\"\n",
    "print(type(name3))\n",
    "print(name3)"
   ]
  },
  {
   "cell_type": "code",
   "execution_count": 8,
   "metadata": {},
   "outputs": [
    {
     "name": "stdout",
     "output_type": "stream",
     "text": [
      "<class 'str'>\n",
      "Ahtasham Shafique\n"
     ]
    }
   ],
   "source": [
    "\n",
    "#   \"\"\"Triple Double quote\"\"\"\n",
    "name4 : str = \"Ahtasham Shafique\"\n",
    "print(type(name4))\n",
    "print(name4)"
   ]
  },
  {
   "cell_type": "markdown",
   "metadata": {},
   "source": [
    "## in which boundaries string not used in python used in typescript\n",
    "## `Backtick quote`"
   ]
  },
  {
   "cell_type": "markdown",
   "metadata": {},
   "source": [
    "\n",
    "#name5 : str = `Abtahi Anjum`\n",
    "#print(type(name))\n",
    "#print(name)"
   ]
  },
  {
   "cell_type": "markdown",
   "metadata": {},
   "source": [
    " if you can print a name such  as\n",
    "        message : str = 'Student Card /n father name's '          \n",
    " then print cannot be run because of the 'single quote' cannot be used in full line \n",
    " because of this is the the single quote cannot be used in two or more times \n",
    " but it can be used in one time only."
   ]
  },
  {
   "cell_type": "markdown",
   "metadata": {},
   "source": [
    "## true code"
   ]
  },
  {
   "cell_type": "code",
   "execution_count": 16,
   "metadata": {},
   "outputs": [
    {
     "name": "stdout",
     "output_type": "stream",
     "text": [
      "PIAIC Student Card \n",
      "father name's \n"
     ]
    }
   ],
   "source": [
    "message : str = \"PIAIC Student Card \\nFather's Name \"\n",
    "print(message)"
   ]
  },
  {
   "cell_type": "markdown",
   "metadata": {},
   "source": [
    "## Convert any Special character Symbol into  Simple character"
   ]
  },
  {
   "cell_type": "code",
   "execution_count": null,
   "metadata": {},
   "outputs": [],
   "source": [
    "message : str = 'PIAIC Student Card \\nFather\\'s Name'\n",
    "print(message)"
   ]
  },
  {
   "cell_type": "markdown",
   "metadata": {},
   "source": [
    "## For Adding any two String or variable "
   ]
  },
  {
   "cell_type": "markdown",
   "metadata": {},
   "source": [
    "## addition of two string\n",
    ".e.g:"
   ]
  },
  {
   "cell_type": "code",
   "execution_count": 17,
   "metadata": {},
   "outputs": [
    {
     "data": {
      "text/plain": [
       "'ab'"
      ]
     },
     "execution_count": 17,
     "metadata": {},
     "output_type": "execute_result"
    }
   ],
   "source": [
    "\"a\" + \"b\""
   ]
  },
  {
   "cell_type": "markdown",
   "metadata": {},
   "source": [
    "## addition of two variables\n",
    ".e.g:"
   ]
  },
  {
   "cell_type": "markdown",
   "metadata": {},
   "source": [
    "## False Code"
   ]
  },
  {
   "cell_type": "markdown",
   "metadata": {},
   "source": [
    "in this program the error is we cannot use addition of two variable of "
   ]
  },
  {
   "cell_type": "markdown",
   "metadata": {},
   "source": [
    "\"string\" + 123\n"
   ]
  },
  {
   "cell_type": "markdown",
   "metadata": {},
   "source": [
    "because the type of both side must be same otherwise an error will occur."
   ]
  },
  {
   "cell_type": "markdown",
   "metadata": {},
   "source": [
    "## True Code "
   ]
  },
  {
   "cell_type": "markdown",
   "metadata": {},
   "source": [
    "## here we add  string and string "
   ]
  },
  {
   "cell_type": "code",
   "execution_count": 25,
   "metadata": {},
   "outputs": [
    {
     "name": "stdout",
     "output_type": "stream",
     "text": [
      "AS\n"
     ]
    }
   ],
   "source": [
    "n1 : str = \"A\"\n",
    "n2 : str = \"S\"\n",
    "n : str = n1 + n2\n",
    "print(n)\n"
   ]
  },
  {
   "cell_type": "markdown",
   "metadata": {},
   "source": [
    "## here we add integer and integer"
   ]
  },
  {
   "cell_type": "code",
   "execution_count": 27,
   "metadata": {},
   "outputs": [
    {
     "name": "stdout",
     "output_type": "stream",
     "text": [
      "3\n"
     ]
    }
   ],
   "source": [
    "n3 : int = 1\n",
    "n4 : int = 2\n",
    "n : int = n3 + n4\n",
    "print(n)\n"
   ]
  },
  {
   "cell_type": "markdown",
   "metadata": {},
   "source": [
    "## False Code"
   ]
  },
  {
   "cell_type": "markdown",
   "metadata": {},
   "source": [
    "name6 : str = \"AHTASHAM SHAFIQUE\""
   ]
  },
  {
   "cell_type": "markdown",
   "metadata": {},
   "source": [
    "fname : str = \"MUHAMMAD SAHAFIQUE\""
   ]
  },
  {
   "cell_type": "markdown",
   "metadata": {},
   "source": [
    "age : int = 15"
   ]
  },
  {
   "cell_type": "markdown",
   "metadata": {},
   "source": [
    "education : str = \"DAE(Diploma of Associate Engineering Auto & Diesel)\""
   ]
  },
  {
   "cell_type": "markdown",
   "metadata": {},
   "source": [
    "phone : int = +923289497755"
   ]
  },
  {
   "cell_type": "markdown",
   "metadata": {},
   "source": [
    "nationality : str = \"Pakistan\""
   ]
  },
  {
   "cell_type": "markdown",
   "metadata": {},
   "source": [
    "address : str = \"Lahore, Pakistan\""
   ]
  },
  {
   "cell_type": "markdown",
   "metadata": {},
   "source": [
    "quater : str = \"Q2\"\n",
    "\n"
   ]
  },
  {
   "cell_type": "markdown",
   "metadata": {},
   "source": [
    "card : str = \"PIAIC Student Card \\nStudent Name: \"+ name6 + \"/nFather Name: \"+ fname + \"/nAge: \" + age + \"\\nEducation: \" + education + \"/n Nationality:\" + nationality + \"/nPhone: \" + phone + \"\\n Address: \" + address + \"\\nQuater: \" + quater\n"
   ]
  },
  {
   "cell_type": "markdown",
   "metadata": {},
   "source": [
    "print(card)"
   ]
  },
  {
   "cell_type": "markdown",
   "metadata": {},
   "source": [
    "## True Code"
   ]
  },
  {
   "cell_type": "code",
   "execution_count": 28,
   "metadata": {},
   "outputs": [
    {
     "name": "stdout",
     "output_type": "stream",
     "text": [
      "PIAIC Student Card \n",
      "Student Name: AHTASHAM SHAFIQUE\n",
      "Father Name: MUHAMMAD SAHAFIQUE\n",
      "Age: 15\n",
      "Education: DAE(Diploma of Associate Engineering Auto & Diesel)\n",
      "Nationality:Pakistan\n",
      "Phone: +923289497755\n",
      "Address: Lahore, Pakistan\n",
      "Quater: Q2\n"
     ]
    }
   ],
   "source": [
    "name6 : str = \"AHTASHAM SHAFIQUE\"\n",
    "fname : str = \"MUHAMMAD SAHAFIQUE\"\n",
    "age : str = \"15\"\n",
    "education : str = \"DAE(Diploma of Associate Engineering Auto & Diesel)\"\n",
    "phone : str = \"+923289497755\"\n",
    "nationality : str = \"Pakistan\"\n",
    "address : str = \"Lahore, Pakistan\"\n",
    "quater : str = \"Q2\"\n",
    "card : str = \"PIAIC Student Card \\nStudent Name: \"+ name6 + \"\\nFather Name: \"+ fname + \"\\nAge: \" + age + \"\\nEducation: \" + education + \"\\nNationality:\" + nationality + \"\\nPhone: \" + phone + \"\\nAddress: \" + address + \"\\nQuater: \" + quater\n",
    "print(card)"
   ]
  },
  {
   "cell_type": "markdown",
   "metadata": {},
   "source": [
    "## OR"
   ]
  },
  {
   "cell_type": "markdown",
   "metadata": {},
   "source": [
    "Same as first Code but different line 3,5"
   ]
  },
  {
   "cell_type": "code",
   "execution_count": 29,
   "metadata": {},
   "outputs": [
    {
     "name": "stdout",
     "output_type": "stream",
     "text": [
      "PIAIC Student Card \n",
      "Student Name: AHTASHAM SHAFIQUE\n",
      "Father Name: MUHAMMAD SAHAFIQUE\n",
      "Age: 15\n",
      "Education: DAE(Diploma of Associate Engineering Auto & Diesel)\n",
      "Nationality:Pakistan\n",
      "Phone: +923289497755\n",
      "Address: Lahore, Pakistan\n",
      "Quater: Q2\n"
     ]
    }
   ],
   "source": [
    "name6 : str = \"AHTASHAM SHAFIQUE\"\n",
    "fname : str = \"MUHAMMAD SAHAFIQUE\"\n",
    "age : str(15)\n",
    "education : str = \"DAE(Diploma of Associate Engineering Auto & Diesel)\"\n",
    "phone : str(+923289497755)\n",
    "nationality : str = \"Pakistan\"\n",
    "address : str = \"Lahore, Pakistan\"\n",
    "quater : str = \"Q2\"\n",
    "card : str = \"PIAIC Student Card \\nStudent Name: \"+ name6 + \"\\nFather Name: \"+ fname + \"\\nAge: \" + age + \"\\nEducation: \" + education + \"\\nNationality:\" + nationality + \"\\nPhone: \" + phone + \"\\nAddress: \" + address + \"\\nQuater: \" + quater\n",
    "print(card)"
   ]
  },
  {
   "cell_type": "markdown",
   "metadata": {},
   "source": [
    "## For Continue line "
   ]
  },
  {
   "cell_type": "markdown",
   "metadata": {},
   "source": [
    ".e.g:"
   ]
  },
  {
   "cell_type": "code",
   "execution_count": 1,
   "metadata": {},
   "outputs": [
    {
     "name": "stdout",
     "output_type": "stream",
     "text": [
      "14\n"
     ]
    }
   ],
   "source": [
    "print(8 +\\\n",
    "      2 + \\\n",
    "        4)"
   ]
  },
  {
   "cell_type": "markdown",
   "metadata": {},
   "source": [
    "## Second .e.g:"
   ]
  },
  {
   "cell_type": "code",
   "execution_count": 3,
   "metadata": {},
   "outputs": [
    {
     "name": "stdout",
     "output_type": "stream",
     "text": [
      "PIAIC Student Card \n",
      "Student Name: AHTASHAM SHAFIQUE\n",
      "Father Name: MUHAMMAD SAHAFIQUE\n",
      "Age: 15\n",
      "Education: DAE(Diploma of Associate Engineering Auto & Diesel)\n",
      "Nationality:Pakistan\n",
      "Phone: +923289497755\n",
      "Address: Lahore, Pakistan\n",
      "Quater: Q2\n"
     ]
    }
   ],
   "source": [
    "name6 : str = \"AHTASHAM SHAFIQUE\"\n",
    "fname : str = \"MUHAMMAD SAHAFIQUE\"\n",
    "age : str = \"15\"\n",
    "education : str = \"DAE(Diploma of Associate Engineering Auto & Diesel)\"\n",
    "phone : str = \"+923289497755\"\n",
    "nationality : str = \"Pakistan\"\n",
    "address : str = \"Lahore, Pakistan\"\n",
    "quater : str = \"Q2\"\n",
    "card : str = \"PIAIC Student Card \\nStudent Name: \"+ name6 +\\\n",
    "      \"\\nFather Name: \"+ fname + \"\\nAge: \" + age + \"\\nEducation: \" + education +\\\n",
    "     \"\\nNationality:\" + nationality + \"\\nPhone: \" + phone +\\\n",
    "     \"\\nAddress: \" + address + \"\\nQuater: \" + quater\n",
    "print(card)"
   ]
  },
  {
   "cell_type": "markdown",
   "metadata": {},
   "source": [
    "## For simple line"
   ]
  },
  {
   "cell_type": "markdown",
   "metadata": {},
   "source": [
    ".e.g:"
   ]
  },
  {
   "cell_type": "code",
   "execution_count": 2,
   "metadata": {},
   "outputs": [
    {
     "name": "stdout",
     "output_type": "stream",
     "text": [
      "14\n"
     ]
    }
   ],
   "source": [
    "print(8 + 2 + 4)"
   ]
  },
  {
   "cell_type": "markdown",
   "metadata": {},
   "source": [
    "## Define Multiline String \"\"\" \"\"\",''' '''"
   ]
  },
  {
   "cell_type": "code",
   "execution_count": 4,
   "metadata": {},
   "outputs": [
    {
     "name": "stdout",
     "output_type": "stream",
     "text": [
      "\n",
      "PIAIC Student Card \n",
      "Student Name:\n",
      "Father Name:\n",
      "Age:\n",
      "Education:\n",
      "Nationality:\n",
      "Phone:\n",
      "Address:\n",
      "Quater:\n",
      "\n"
     ]
    }
   ],
   "source": [
    "name6 : str = \"AHTASHAM SHAFIQUE\"\n",
    "fname : str = \"MUHAMMAD SAHAFIQUE\"\n",
    "age : str = \"15\"\n",
    "education : str = \"DAE(Diploma of Associate Engineering Auto & Diesel)\"\n",
    "phone : str = \"+923289497755\"\n",
    "nationality : str = \"Pakistan\"\n",
    "address : str = \"Lahore, Pakistan\"\n",
    "quater : str = \"Q2\"\n",
    "\n",
    "card : str = \"\"\"\n",
    "PIAIC Student Card \n",
    "Student Name:\n",
    "Father Name:\n",
    "Age:\n",
    "Education:\n",
    "Nationality:\n",
    "Phone:\n",
    "Address:\n",
    "Quater:\n",
    "\"\"\"\n",
    "print(card)"
   ]
  },
  {
   "cell_type": "markdown",
   "metadata": {},
   "source": [
    "## F-String Powerful Feauture of Python"
   ]
  },
  {
   "cell_type": "markdown",
   "metadata": {},
   "source": [
    "## First Method"
   ]
  },
  {
   "cell_type": "code",
   "execution_count": 6,
   "metadata": {},
   "outputs": [
    {
     "name": "stdout",
     "output_type": "stream",
     "text": [
      "\n",
      "PIAIC Student Card \n",
      "Student Name: AHTASHAM SHAFIQUE\n",
      "Father's Name: MUHAMMAD SAHAFIQUE\n",
      "Age: 15\n",
      "Education: DAE(Diploma of Associate Engineering Auto & Diesel)\n",
      "Nationality: Pakistan\n",
      "Phone: +923289497755\n",
      "Address: Lahore, Pakistan\n",
      "Quater: Q2\n",
      "\n"
     ]
    }
   ],
   "source": [
    "name6 : str = \"AHTASHAM SHAFIQUE\"\n",
    "fname : str = \"MUHAMMAD SAHAFIQUE\"\n",
    "age : str = \"15\"\n",
    "education : str = \"DAE(Diploma of Associate Engineering Auto & Diesel)\"\n",
    "phone : str = \"+923289497755\"\n",
    "nationality : str = \"Pakistan\"\n",
    "address : str = \"Lahore, Pakistan\"\n",
    "quater : str = \"Q2\"\n",
    "card : str = f\"\"\"\n",
    "PIAIC Student Card \n",
    "Student Name: {name6}\n",
    "Father's Name: {fname}\n",
    "Age: {age}\n",
    "Education: {education}\n",
    "Nationality: {nationality}\n",
    "Phone: {phone}\n",
    "Address: {address}\n",
    "Quater: {quater}\n",
    "\"\"\"\n",
    "print(card)"
   ]
  },
  {
   "cell_type": "markdown",
   "metadata": {},
   "source": [
    "## Fstring & Jinja Style"
   ]
  },
  {
   "cell_type": "markdown",
   "metadata": {},
   "source": [
    "F-String"
   ]
  },
  {
   "cell_type": "code",
   "execution_count": 32,
   "metadata": {},
   "outputs": [
    {
     "data": {
      "text/plain": [
       "'\\nStudent Name AHTASHAM SHAFIQUE\\n'"
      ]
     },
     "execution_count": 32,
     "metadata": {},
     "output_type": "execute_result"
    }
   ],
   "source": [
    "f'''\n",
    "Student Name {name6}\n",
    "'''"
   ]
  },
  {
   "cell_type": "markdown",
   "metadata": {},
   "source": [
    "Jinja Style"
   ]
  },
  {
   "cell_type": "code",
   "execution_count": 9,
   "metadata": {},
   "outputs": [
    {
     "data": {
      "text/plain": [
       "'\\nStudent Name {{name6}}\\n'"
      ]
     },
     "execution_count": 9,
     "metadata": {},
     "output_type": "execute_result"
    }
   ],
   "source": [
    "'''\n",
    "Student Name {{name6}}\n",
    "'''"
   ]
  },
  {
   "cell_type": "markdown",
   "metadata": {},
   "source": [
    "## F-String Second Method"
   ]
  },
  {
   "cell_type": "code",
   "execution_count": 29,
   "metadata": {},
   "outputs": [
    {
     "name": "stdout",
     "output_type": "stream",
     "text": [
      "\n",
      "PIAIC Student Card\n",
      "Student Name : AHTASHAM SHAFIQUE\n",
      "Father's Name: MUHAMMAD SAHAFIQUE\n",
      "Age: 15\n",
      "Education : DAE(Diploma of Associate Engineering Auto & Diesel)\n",
      "\n",
      "\n"
     ]
    }
   ],
   "source": [
    "name6 : str = \"AHTASHAM SHAFIQUE\"\n",
    "fname : str = \"MUHAMMAD SAHAFIQUE\"\n",
    "education : str = \"DAE(Diploma of Associate Engineering Auto & Diesel)\"\n",
    "age : int = 15\n",
    "\n",
    "\n",
    "card : str = f\"\"\"\n",
    "PIAIC Student Card\n",
    "Student Name : %s\n",
    "Father's Name: %s\n",
    "Age: %d\n",
    "Education : %s\n",
    "\n",
    "\"\"\" % (name6, fname, age, education)\n",
    "\n",
    "print(card)"
   ]
  },
  {
   "cell_type": "markdown",
   "metadata": {},
   "source": [
    "## Methods Of String"
   ]
  },
  {
   "cell_type": "code",
   "execution_count": 31,
   "metadata": {},
   "outputs": [
    {
     "data": {
      "text/plain": [
       "['__add__',\n",
       " '__class__',\n",
       " '__contains__',\n",
       " '__delattr__',\n",
       " '__dir__',\n",
       " '__doc__',\n",
       " '__eq__',\n",
       " '__format__',\n",
       " '__ge__',\n",
       " '__getattribute__',\n",
       " '__getitem__',\n",
       " '__getnewargs__',\n",
       " '__getstate__',\n",
       " '__gt__',\n",
       " '__hash__',\n",
       " '__init__',\n",
       " '__init_subclass__',\n",
       " '__iter__',\n",
       " '__le__',\n",
       " '__len__',\n",
       " '__lt__',\n",
       " '__mod__',\n",
       " '__mul__',\n",
       " '__ne__',\n",
       " '__new__',\n",
       " '__reduce__',\n",
       " '__reduce_ex__',\n",
       " '__repr__',\n",
       " '__rmod__',\n",
       " '__rmul__',\n",
       " '__setattr__',\n",
       " '__sizeof__',\n",
       " '__str__',\n",
       " '__subclasshook__',\n",
       " 'capitalize',\n",
       " 'casefold',\n",
       " 'center',\n",
       " 'count',\n",
       " 'encode',\n",
       " 'endswith',\n",
       " 'expandtabs',\n",
       " 'find',\n",
       " 'format',\n",
       " 'format_map',\n",
       " 'index',\n",
       " 'isalnum',\n",
       " 'isalpha',\n",
       " 'isascii',\n",
       " 'isdecimal',\n",
       " 'isdigit',\n",
       " 'isidentifier',\n",
       " 'islower',\n",
       " 'isnumeric',\n",
       " 'isprintable',\n",
       " 'isspace',\n",
       " 'istitle',\n",
       " 'isupper',\n",
       " 'join',\n",
       " 'ljust',\n",
       " 'lower',\n",
       " 'lstrip',\n",
       " 'maketrans',\n",
       " 'partition',\n",
       " 'removeprefix',\n",
       " 'removesuffix',\n",
       " 'replace',\n",
       " 'rfind',\n",
       " 'rindex',\n",
       " 'rjust',\n",
       " 'rpartition',\n",
       " 'rsplit',\n",
       " 'rstrip',\n",
       " 'split',\n",
       " 'splitlines',\n",
       " 'startswith',\n",
       " 'strip',\n",
       " 'swapcase',\n",
       " 'title',\n",
       " 'translate',\n",
       " 'upper',\n",
       " 'zfill']"
      ]
     },
     "execution_count": 31,
     "metadata": {},
     "output_type": "execute_result"
    }
   ],
   "source": [
    "dir(str)"
   ]
  },
  {
   "cell_type": "code",
   "execution_count": 34,
   "metadata": {},
   "outputs": [
    {
     "data": {
      "text/plain": [
       "['capitalize',\n",
       " 'casefold',\n",
       " 'center',\n",
       " 'count',\n",
       " 'encode',\n",
       " 'endswith',\n",
       " 'expandtabs',\n",
       " 'find',\n",
       " 'format',\n",
       " 'format_map',\n",
       " 'index',\n",
       " 'isalnum',\n",
       " 'isalpha',\n",
       " 'isascii',\n",
       " 'isdecimal',\n",
       " 'isdigit',\n",
       " 'isidentifier',\n",
       " 'islower',\n",
       " 'isnumeric',\n",
       " 'isprintable',\n",
       " 'isspace',\n",
       " 'istitle',\n",
       " 'isupper',\n",
       " 'join',\n",
       " 'ljust',\n",
       " 'lower',\n",
       " 'lstrip',\n",
       " 'maketrans',\n",
       " 'partition',\n",
       " 'removeprefix',\n",
       " 'removesuffix',\n",
       " 'replace',\n",
       " 'rfind',\n",
       " 'rindex',\n",
       " 'rjust',\n",
       " 'rpartition',\n",
       " 'rsplit',\n",
       " 'rstrip',\n",
       " 'split',\n",
       " 'splitlines',\n",
       " 'startswith',\n",
       " 'strip',\n",
       " 'swapcase',\n",
       " 'title',\n",
       " 'translate',\n",
       " 'upper',\n",
       " 'zfill']"
      ]
     },
     "execution_count": 34,
     "metadata": {},
     "output_type": "execute_result"
    }
   ],
   "source": [
    "[i for i in dir(str) if \"__\" not in i]\n"
   ]
  },
  {
   "cell_type": "markdown",
   "metadata": {},
   "source": [
    "## Use of Method of String"
   ]
  },
  {
   "cell_type": "code",
   "execution_count": 37,
   "metadata": {},
   "outputs": [
    {
     "name": "stdout",
     "output_type": "stream",
     "text": [
      "Muhammad shafique\n",
      "muhammad shafique\n"
     ]
    }
   ],
   "source": [
    "name : str = \"MuHaMMaD ShAfIqUe\"\n",
    "print(name.capitalize())\n",
    "print(name.lower())\n",
    "# and other method "
   ]
  },
  {
   "cell_type": "markdown",
   "metadata": {},
   "source": [
    "## Format String Method "
   ]
  },
  {
   "cell_type": "markdown",
   "metadata": {},
   "source": [
    "{} Place Holder"
   ]
  },
  {
   "cell_type": "code",
   "execution_count": 3,
   "metadata": {},
   "outputs": [
    {
     "data": {
      "text/plain": [
       "'Pakistan  is 1 of the most famous and powerful country in the world. '"
      ]
     },
     "execution_count": 3,
     "metadata": {},
     "output_type": "execute_result"
    }
   ],
   "source": [
    "a = 1\n",
    "# {} Place Holder\n",
    "# In Computer a value is \n",
    "#              0                                                                0\n",
    "'Pakistan  is {} of the most famous and powerful country in the world. '.format(a)"
   ]
  },
  {
   "cell_type": "markdown",
   "metadata": {},
   "source": [
    "## False Example"
   ]
  },
  {
   "cell_type": "code",
   "execution_count": 9,
   "metadata": {},
   "outputs": [
    {
     "name": "stdout",
     "output_type": "stream",
     "text": [
      "\n",
      "PIAIC Student Card\n",
      "Student Name : 15\n",
      "Father's Name: AHTASHAM SHAFIQUE\n",
      "Age: DAE(Diploma of Associate Engineering Auto & Diesel)\n",
      "Education : MUHAMMAD SAHAFIQUE\n",
      "\n",
      "\n"
     ]
    }
   ],
   "source": [
    "name6 : str = \"AHTASHAM SHAFIQUE\"\n",
    "fname : str = \"MUHAMMAD SAHAFIQUE\"\n",
    "education : str = \"DAE(Diploma of Associate Engineering Auto & Diesel)\"\n",
    "age : int = 15\n",
    "\n",
    "\n",
    "card : str = \"\"\"\n",
    "PIAIC Student Card\n",
    "Student Name : {}\n",
    "Father's Name: {}\n",
    "Age: {}\n",
    "Education : {}\n",
    "\n",
    "\"\"\".format(age, name6, education, fname)\n",
    "\n",
    "print(card)"
   ]
  },
  {
   "cell_type": "markdown",
   "metadata": {},
   "source": [
    "## TRUE CODE"
   ]
  },
  {
   "cell_type": "code",
   "execution_count": 10,
   "metadata": {},
   "outputs": [
    {
     "name": "stdout",
     "output_type": "stream",
     "text": [
      "\n",
      "PIAIC Student Card\n",
      "Student Name : AHTASHAM SHAFIQUE\n",
      "Father's Name: MUHAMMAD SAHAFIQUE\n",
      "Age: 15\n",
      "Education : DAE(Diploma of Associate Engineering Auto & Diesel)\n",
      "\n",
      "\n"
     ]
    }
   ],
   "source": [
    "name6 : str = \"AHTASHAM SHAFIQUE\"\n",
    "fname : str = \"MUHAMMAD SAHAFIQUE\"\n",
    "education : str = \"DAE(Diploma of Associate Engineering Auto & Diesel)\"\n",
    "age : int = 15\n",
    "\n",
    "\n",
    "card : str = \"\"\"\n",
    "PIAIC Student Card\n",
    "Student Name : {0}\n",
    "Father's Name: {1}\n",
    "Age: {2}\n",
    "Education : {3}\n",
    "\n",
    "\"\"\".format(name6,fname, age, education)\n",
    "#            0     1     2      3\n",
    "print(card)"
   ]
  },
  {
   "cell_type": "code",
   "execution_count": 11,
   "metadata": {},
   "outputs": [
    {
     "name": "stdout",
     "output_type": "stream",
     "text": [
      "\n",
      "PIAIC Student Card\n",
      "Student Name : AHTASHAM SHAFIQUE\n",
      "Father's Name: MUHAMMAD SAHAFIQUE\n",
      "Age: 15\n",
      "Education : DAE(Diploma of Associate Engineering Auto & Diesel)\n",
      "\n",
      "\n"
     ]
    }
   ],
   "source": [
    "name6 : str = \"AHTASHAM SHAFIQUE\"\n",
    "fname : str = \"MUHAMMAD SAHAFIQUE\"\n",
    "education : str = \"DAE(Diploma of Associate Engineering Auto & Diesel)\"\n",
    "age : int = 15\n",
    "\n",
    "\n",
    "card : str = \"\"\"\n",
    "PIAIC Student Card\n",
    "Student Name : {1}\n",
    "Father's Name: {3}\n",
    "Age: {0}\n",
    "Education : {2}\n",
    "\n",
    "\"\"\".format(age, name6, education, fname)\n",
    "#           0     1       2         3\n",
    "print(card)"
   ]
  },
  {
   "cell_type": "code",
   "execution_count": 13,
   "metadata": {},
   "outputs": [
    {
     "name": "stdout",
     "output_type": "stream",
     "text": [
      "\n",
      "PIAIC Student Card\n",
      "Student Name : AHTASHAM SHAFIQUE\n",
      "Father's Name: MUHAMMAD SAHAFIQUE\n",
      "Age: 15\n",
      "Education : DAE(Diploma of Associate Engineering Auto & Diesel)\n",
      "\n",
      "\n"
     ]
    }
   ],
   "source": [
    "name6 : str = \"AHTASHAM SHAFIQUE\"\n",
    "fname : str = \"MUHAMMAD SAHAFIQUE\"\n",
    "education : str = \"DAE(Diploma of Associate Engineering Auto & Diesel)\"\n",
    "age : int = 15\n",
    "\n",
    "\n",
    "card : str = \"\"\"\n",
    "PIAIC Student Card\n",
    "Student Name : {a}\n",
    "Father's Name: {b}\n",
    "Age: {c}\n",
    "Education : {d}\n",
    "\n",
    "\"\"\".format(a=name6, b=fname, c=age, d=education)\n",
    "\n",
    "print(card)"
   ]
  },
  {
   "cell_type": "markdown",
   "metadata": {},
   "source": [
    "## Recommended below two f-string format"
   ]
  },
  {
   "cell_type": "code",
   "execution_count": 14,
   "metadata": {},
   "outputs": [
    {
     "name": "stdout",
     "output_type": "stream",
     "text": [
      "\n",
      "PIAIC Student Card \n",
      "Student Name: AHTASHAM SHAFIQUE\n",
      "Father's Name: MUHAMMAD SAHAFIQUE\n",
      "Age: 15\n",
      "Education: DAE(Diploma of Associate Engineering Auto & Diesel)\n",
      "Nationality: Pakistan\n",
      "Phone: +923289497755\n",
      "Address: Lahore, Pakistan\n",
      "Quater: Q2\n",
      "\n"
     ]
    }
   ],
   "source": [
    "name6 : str = \"AHTASHAM SHAFIQUE\"\n",
    "fname : str = \"MUHAMMAD SAHAFIQUE\"\n",
    "age : str = \"15\"\n",
    "education : str = \"DAE(Diploma of Associate Engineering Auto & Diesel)\"\n",
    "phone : str = \"+923289497755\"\n",
    "nationality : str = \"Pakistan\"\n",
    "address : str = \"Lahore, Pakistan\"\n",
    "quater : str = \"Q2\"\n",
    "\n",
    "card : str = f\"\"\"\n",
    "PIAIC Student Card \n",
    "Student Name: {name6}\n",
    "Father's Name: {fname}\n",
    "Age: {age}\n",
    "Education: {education}\n",
    "Nationality: {nationality}\n",
    "Phone: {phone}\n",
    "Address: {address}\n",
    "Quater: {quater}\n",
    "\"\"\"\n",
    "print(card)"
   ]
  },
  {
   "cell_type": "markdown",
   "metadata": {},
   "source": [
    "## Explore String methods and attributes\n",
    "pre-define global function we have used\n"
   ]
  },
  {
   "cell_type": "code",
   "execution_count": 15,
   "metadata": {},
   "outputs": [
    {
     "name": "stdout",
     "output_type": "stream",
     "text": [
      "['capitalize', 'casefold', 'center', 'count', 'encode', 'endswith', 'expandtabs', 'find', 'format', 'format_map', 'index', 'isalnum', 'isalpha', 'isascii', 'isdecimal', 'isdigit', 'isidentifier', 'islower', 'isnumeric', 'isprintable', 'isspace', 'istitle', 'isupper', 'join', 'ljust', 'lower', 'lstrip', 'maketrans', 'partition', 'removeprefix', 'removesuffix', 'replace', 'rfind', 'rindex', 'rjust', 'rpartition', 'rsplit', 'rstrip', 'split', 'splitlines', 'startswith', 'strip', 'swapcase', 'title', 'translate', 'upper', 'zfill']\n",
      "47\n"
     ]
    }
   ],
   "source": [
    "a: list[str] = [i for i in dir(str) if \"__\" not in i]\n",
    "print(a)\n",
    "print(len(a))"
   ]
  },
  {
   "cell_type": "code",
   "execution_count": 16,
   "metadata": {},
   "outputs": [
    {
     "name": "stdout",
     "output_type": "stream",
     "text": [
      "Ahtasham shafique\n"
     ]
    }
   ],
   "source": [
    "name : str = \"AhtAShAm ShAfIqUe\"\n",
    "\n",
    "#variable_name.method()\n",
    "print(name.capitalize())"
   ]
  },
  {
   "cell_type": "code",
   "execution_count": 17,
   "metadata": {},
   "outputs": [
    {
     "name": "stdout",
     "output_type": "stream",
     "text": [
      "AhtAShAm ShAfIqUe\n",
      "ahtasham shafique\n"
     ]
    }
   ],
   "source": [
    "name : str = \"AhtAShAm ShAfIqUe\"\n",
    "\n",
    "#variable_name.method()\n",
    "print(name)\n",
    "print(name.casefold())"
   ]
  },
  {
   "cell_type": "code",
   "execution_count": 30,
   "metadata": {},
   "outputs": [
    {
     "name": "stdout",
     "output_type": "stream",
     "text": [
      "AhtAShAm ShAfIqUe\n",
      "ahtasham shafique\n"
     ]
    }
   ],
   "source": [
    "name : str = \"AhtAShAm ShAfIqUe\"\n",
    "\n",
    "#variable_name.method()\n",
    "print(name)\n",
    "print(name.lower())"
   ]
  },
  {
   "cell_type": "code",
   "execution_count": 31,
   "metadata": {},
   "outputs": [
    {
     "data": {
      "text/plain": [
       "'      AhtASHam      ShAfiQue         '"
      ]
     },
     "metadata": {},
     "output_type": "display_data"
    },
    {
     "data": {
      "text/plain": [
       "'AhtASHam      ShAfiQue         '"
      ]
     },
     "metadata": {},
     "output_type": "display_data"
    }
   ],
   "source": [
    "name : str = \"      AhtASHam      ShAfiQue         \"\n",
    "\n",
    "#variable_name.method()\n",
    "display(name)\n",
    "display(name.lstrip())"
   ]
  },
  {
   "cell_type": "code",
   "execution_count": 32,
   "metadata": {},
   "outputs": [
    {
     "data": {
      "text/plain": [
       "'      AhtASHam      ShAfiQue       '"
      ]
     },
     "metadata": {},
     "output_type": "display_data"
    },
    {
     "data": {
      "text/plain": [
       "'      AhtASHam      ShAfiQue'"
      ]
     },
     "metadata": {},
     "output_type": "display_data"
    }
   ],
   "source": [
    "name : str = \"      AhtASHam      ShAfiQue       \"\n",
    "\n",
    "#variable_name.method()\n",
    "display(name)\n",
    "display(name.rstrip())"
   ]
  },
  {
   "cell_type": "code",
   "execution_count": 33,
   "metadata": {},
   "outputs": [
    {
     "data": {
      "text/plain": [
       "'      AhtASHam      ShAfiQue        '"
      ]
     },
     "metadata": {},
     "output_type": "display_data"
    },
    {
     "data": {
      "text/plain": [
       "'AhtASHam      ShAfiQue'"
      ]
     },
     "metadata": {},
     "output_type": "display_data"
    }
   ],
   "source": [
    "name : str = \"      AhtASHam      ShAfiQue        \"\n",
    "\n",
    "#variable_name.method()\n",
    "display(name)\n",
    "display(name.strip())"
   ]
  },
  {
   "cell_type": "code",
   "execution_count": 34,
   "metadata": {},
   "outputs": [
    {
     "data": {
      "text/plain": [
       "'      AhtASHam      ShAfiQue         '"
      ]
     },
     "metadata": {},
     "output_type": "display_data"
    },
    {
     "data": {
      "text/plain": [
       "'AhtASHam      ShAfiQue'"
      ]
     },
     "metadata": {},
     "output_type": "display_data"
    }
   ],
   "source": [
    "name : str = \"      AhtASHam      ShAfiQue         \"\n",
    "\n",
    "#variable_name.method()\n",
    "display(name)\n",
    "display(name.strip())"
   ]
  },
  {
   "cell_type": "code",
   "execution_count": 35,
   "metadata": {},
   "outputs": [
    {
     "data": {
      "text/plain": [
       "'      Ahtasham       Shafique        '"
      ]
     },
     "metadata": {},
     "output_type": "display_data"
    },
    {
     "data": {
      "text/plain": [
       "'Ahtasham Shafique'"
      ]
     },
     "metadata": {},
     "output_type": "display_data"
    }
   ],
   "source": [
    "import re\n",
    "\n",
    "name : str = \"      Ahtasham       Shafique        \"\n",
    "\n",
    "display(name)\n",
    "\n",
    "name1 : str = re.sub(' {2,100}',' ', name).strip()\n",
    "display(name1)"
   ]
  },
  {
   "cell_type": "code",
   "execution_count": 36,
   "metadata": {},
   "outputs": [
    {
     "data": {
      "text/plain": [
       "'Ahtasham Shafique'"
      ]
     },
     "metadata": {},
     "output_type": "display_data"
    },
    {
     "data": {
      "text/plain": [
       "'Ahtasham Shafique'"
      ]
     },
     "metadata": {},
     "output_type": "display_data"
    }
   ],
   "source": [
    "name : str = \"Ahtasham Shafique\"\n",
    "\n",
    "#variable_name.method()\n",
    "display(name)\n",
    "display(name.title())"
   ]
  },
  {
   "cell_type": "code",
   "execution_count": 23,
   "metadata": {},
   "outputs": [
    {
     "name": "stdout",
     "output_type": "stream",
     "text": [
      "I LOVE PAKISAN\n",
      "i love pakisan\n"
     ]
    }
   ],
   "source": [
    "name:str = \"I Love PakisAN\"\n",
    "print(name.upper())\n",
    "print(name.lower())"
   ]
  },
  {
   "cell_type": "markdown",
   "metadata": {},
   "source": [
    "## \\n\n",
    "## \\t\n",
    "## \\b"
   ]
  },
  {
   "cell_type": "code",
   "execution_count": 24,
   "metadata": {},
   "outputs": [
    {
     "name": "stdout",
     "output_type": "stream",
     "text": [
      "Name:\t\t Ahtasham Shafique\n"
     ]
    }
   ],
   "source": [
    "print(\"Name:\\t\\t Ahtasham Shafique\")"
   ]
  },
  {
   "cell_type": "code",
   "execution_count": 25,
   "metadata": {},
   "outputs": [
    {
     "name": "stdout",
     "output_type": "stream",
     "text": [
      "Name:\n",
      "Ahtasham Shafique\n"
     ]
    }
   ],
   "source": [
    "print(\"Name:\\nAhtasham Shafique\")"
   ]
  },
  {
   "cell_type": "code",
   "execution_count": 26,
   "metadata": {},
   "outputs": [
    {
     "name": "stdout",
     "output_type": "stream",
     "text": [
      "NameAhtasham Shafique\n"
     ]
    }
   ],
   "source": [
    "print(\"Name:\\bAhtasham Shafique\")"
   ]
  },
  {
   "cell_type": "code",
   "execution_count": 27,
   "metadata": {},
   "outputs": [
    {
     "data": {
      "text/plain": [
       "'nostarch.com'"
      ]
     },
     "execution_count": 27,
     "metadata": {},
     "output_type": "execute_result"
    }
   ],
   "source": [
    "nostarch_url:str = 'https://nostarch.com'\n",
    "nostarch_url.removeprefix('https://')"
   ]
  },
  {
   "cell_type": "code",
   "execution_count": 18,
   "metadata": {},
   "outputs": [
    {
     "ename": "SyntaxError",
     "evalue": "invalid decimal literal (123601621.py, line 1)",
     "output_type": "error",
     "traceback": [
      "\u001b[0;36m  Cell \u001b[0;32mIn[18], line 1\u001b[0;36m\u001b[0m\n\u001b[0;31m    1name : str = \"Shafique\"\u001b[0m\n\u001b[0m    ^\u001b[0m\n\u001b[0;31mSyntaxError\u001b[0m\u001b[0;31m:\u001b[0m invalid decimal literal\n"
     ]
    }
   ],
   "source": [
    "1name : str = \"Shafique\"\n",
    "print(1name)"
   ]
  },
  {
   "cell_type": "code",
   "execution_count": 19,
   "metadata": {},
   "outputs": [
    {
     "name": "stdout",
     "output_type": "stream",
     "text": [
      "Shafique\n"
     ]
    }
   ],
   "source": [
    "_1name : str = \"Shafique\"\n",
    "print(_1name)"
   ]
  },
  {
   "cell_type": "code",
   "execution_count": 20,
   "metadata": {},
   "outputs": [
    {
     "ename": "SyntaxError",
     "evalue": "invalid syntax (3884045971.py, line 1)",
     "output_type": "error",
     "traceback": [
      "\u001b[0;36m  Cell \u001b[0;32mIn[20], line 1\u001b[0;36m\u001b[0m\n\u001b[0;31m    piaic student name : str = \"Ahtasham Shafique\"\u001b[0m\n\u001b[0m          ^\u001b[0m\n\u001b[0;31mSyntaxError\u001b[0m\u001b[0;31m:\u001b[0m invalid syntax\n"
     ]
    }
   ],
   "source": [
    "piaic student name : str = \"Ahtasham Shafique\"\n",
    "print(piaic student name)"
   ]
  },
  {
   "cell_type": "code",
   "execution_count": 21,
   "metadata": {},
   "outputs": [
    {
     "name": "stdout",
     "output_type": "stream",
     "text": [
      "Ahtasham Shafique\n"
     ]
    }
   ],
   "source": [
    "piaic_student_name : str = \"Ahtasham Shafique\"\n",
    "print(piaic_student_name)"
   ]
  }
 ],
 "metadata": {
  "kernelspec": {
   "display_name": "python12",
   "language": "python",
   "name": "python3"
  },
  "language_info": {
   "codemirror_mode": {
    "name": "ipython",
    "version": 3
   },
   "file_extension": ".py",
   "mimetype": "text/x-python",
   "name": "python",
   "nbconvert_exporter": "python",
   "pygments_lexer": "ipython3",
   "version": "3.12.0"
  },
  "orig_nbformat": 4
 },
 "nbformat": 4,
 "nbformat_minor": 2
}

{
 "cells": [
  {
   "cell_type": "markdown",
   "metadata": {},
   "source": [
    "## I'm so happy to start programming."
   ]
  },
  {
   "cell_type": "code",
   "execution_count": 1,
   "metadata": {},
   "outputs": [
    {
     "name": "stdout",
     "output_type": "stream",
     "text": [
      "Hello World\n"
     ]
    }
   ],
   "source": [
    "print(\"Hello World\")"
   ]
  },
  {
   "cell_type": "markdown",
   "metadata": {},
   "source": [
    "## String in Python"
   ]
  },
  {
   "cell_type": "code",
   "execution_count": 4,
   "metadata": {},
   "outputs": [
    {
     "name": "stdout",
     "output_type": "stream",
     "text": [
      "700\n",
      "<class 'int'>\n",
      "4601761232\n",
      "['as_integer_ratio', 'bit_count', 'bit_length', 'conjugate', 'denominator', 'from_bytes', 'imag', 'is_integer', 'numerator', 'real', 'to_bytes']\n"
     ]
    }
   ],
   "source": [
    "name =\"Ahtasham Shafique\"\n",
    "name = 700\n",
    "print(name)\n",
    "print(type(name))\n",
    "print(id(name))\n",
    "print([i for i in dir(name) if \"__\" not in i])"
   ]
  },
  {
   "cell_type": "code",
   "execution_count": 2,
   "metadata": {},
   "outputs": [
    {
     "name": "stdout",
     "output_type": "stream",
     "text": [
      "Pakistan\n",
      "<class 'str'>\n",
      "4474828848\n",
      "['capitalize', 'casefold', 'center', 'count', 'encode', 'endswith', 'expandtabs', 'find', 'format', 'format_map', 'index', 'isalnum', 'isalpha', 'isascii', 'isdecimal', 'isdigit', 'isidentifier', 'islower', 'isnumeric', 'isprintable', 'isspace', 'istitle', 'isupper', 'join', 'ljust', 'lower', 'lstrip', 'maketrans', 'partition', 'removeprefix', 'removesuffix', 'replace', 'rfind', 'rindex', 'rjust', 'rpartition', 'rsplit', 'rstrip', 'split', 'splitlines', 'startswith', 'strip', 'swapcase', 'title', 'translate', 'upper', 'zfill']\n"
     ]
    }
   ],
   "source": [
    "# In this Program we can use   print, type,physical address,methods and distribution,string,python.\n",
    "name : any = \"Pakistan\"\n",
    "number :int = 7\n",
    "print(name)#print\n",
    "print(type(name))#type\n",
    "print(id(name))#physical address\n",
    "print([i for i in dir(name) if \"__\" not in i])#methods and distribution"
   ]
  },
  {
   "cell_type": "code",
   "execution_count": 4,
   "metadata": {},
   "outputs": [
    {
     "name": "stdout",
     "output_type": "stream",
     "text": [
      "Ahtasham\n",
      "Love Pakistan\n"
     ]
    }
   ],
   "source": [
    "# print Ahtasham Love Pakistan\n",
    "print(\"Ahtasham\")\n",
    "print(\"Love Pakistan\")"
   ]
  },
  {
   "cell_type": "code",
   "execution_count": 9,
   "metadata": {},
   "outputs": [
    {
     "name": "stdout",
     "output_type": "stream",
     "text": [
      "700\n",
      "<class 'int'>\n",
      "4514734256\n"
     ]
    }
   ],
   "source": [
    "name :any = \"Ahtasham Shafique\"\n",
    "name = 700\n",
    "print(name)\n",
    "print(type(name))\n",
    "print(id(name))"
   ]
  },
  {
   "cell_type": "code",
   "execution_count": 10,
   "metadata": {},
   "outputs": [
    {
     "name": "stdout",
     "output_type": "stream",
     "text": [
      "Pakistan\n",
      "<class 'str'>\n",
      "4474828848\n",
      "['capitalize', 'casefold', 'center', 'count', 'encode', 'endswith', 'expandtabs', 'find', 'format', 'format_map', 'index', 'isalnum', 'isalpha', 'isascii', 'isdecimal', 'isdigit', 'isidentifier', 'islower', 'isnumeric', 'isprintable', 'isspace', 'istitle', 'isupper', 'join', 'ljust', 'lower', 'lstrip', 'maketrans', 'partition', 'removeprefix', 'removesuffix', 'replace', 'rfind', 'rindex', 'rjust', 'rpartition', 'rsplit', 'rstrip', 'split', 'splitlines', 'startswith', 'strip', 'swapcase', 'title', 'translate', 'upper', 'zfill']\n",
      "Ahtasham\n",
      "Love Pakistan\n",
      "700\n",
      "<class 'int'>\n",
      "4514734192\n",
      "700\n",
      "<class 'int'>\n",
      "4514734672\n"
     ]
    }
   ],
   "source": [
    "# In this Program we can use   print, type,physical address,methods and distribution,and not use string in python use int in python int means integers.\n",
    "name : any = \"Pakistan\"\n",
    "number :int = 7\n",
    "print(name)#print\n",
    "print(type(name))#type\n",
    "print(id(name))#physical address\n",
    "print([i for i in dir(name) if \"__\" not in i])#methods and distribution\n",
    "\n",
    "# print Ahtasham Love Pakistan\n",
    "print(\"Ahtasham\")\n",
    "print(\"Love Pakistan\")\n",
    "# String in Python\n",
    "name : int = \"Ahtasham Shafique\"\n",
    "name = 700\n",
    "print(name)\n",
    "print(type(name))\n",
    "print(id(name))\n",
    "# any in python\n",
    "name :any = \"Ahtasham Shafique\"\n",
    "name = 700\n",
    "print(name)\n",
    "print(type(name))\n",
    "print(id(name))"
   ]
  }
 ],
 "metadata": {
  "kernelspec": {
   "display_name": "Python 3",
   "language": "python",
   "name": "python3"
  },
  "language_info": {
   "codemirror_mode": {
    "name": "ipython",
    "version": 3
   },
   "file_extension": ".py",
   "mimetype": "text/x-python",
   "name": "python",
   "nbconvert_exporter": "python",
   "pygments_lexer": "ipython3",
   "version": "3.12.0"
  },
  "orig_nbformat": 4
 },
 "nbformat": 4,
 "nbformat_minor": 2
}
